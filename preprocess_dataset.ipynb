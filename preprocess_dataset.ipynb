{
 "cells": [
  {
   "cell_type": "markdown",
   "metadata": {},
   "source": [
    "# Preprocess Dataset\n",
    "\n",
    "reads data from `train_dir` and outputs processed images to `processed_train_dir`. <br>\n",
    "processing => \n",
    "1. convert to grayscale depending on the flag\n",
    "2. resize to 128, 128 pixels\n"
   ]
  },
  {
   "cell_type": "code",
   "execution_count": 4,
   "metadata": {},
   "outputs": [],
   "source": [
    "# imports\n",
    "from PIL import Image\n",
    "import pandas as pd\n",
    "import os"
   ]
  },
  {
   "cell_type": "code",
   "execution_count": 5,
   "metadata": {},
   "outputs": [],
   "source": [
    "train_dir = 'dataset/train'\n",
    "processed_train_dir = 'dataset/processed/train'\n",
    "\n",
    "size = 128, 128\n",
    "n_files = len(os.listdir(train_dir))\n",
    "gray_scale_flag = False"
   ]
  },
  {
   "cell_type": "code",
   "execution_count": 6,
   "metadata": {},
   "outputs": [
    {
     "name": "stdout",
     "output_type": "stream",
     "text": [
      "processed file 10222 out of 10222 \r"
     ]
    }
   ],
   "source": [
    "# iterate through each file in train_dir\n",
    "for file_i, file_ in enumerate(os.listdir(train_dir)):\n",
    "    \n",
    "    # read and convert to Grayscale\n",
    "    im = Image.open(os.path.join(train_dir, file_))\n",
    "    if gray_scale_flag:\n",
    "        im = im.convert('L')\n",
    "    # resize image\n",
    "    im = im.resize(size)\n",
    "    # save image to proccessed_train_dir\n",
    "    im.save(os.path.join(processed_train_dir, file_), \"JPEG\")\n",
    "    print \"processed file {} out of {} \\r\".format(file_i + 1, n_files),"
   ]
  }
 ],
 "metadata": {
  "kernelspec": {
   "display_name": "Python 2",
   "language": "python",
   "name": "python2"
  },
  "language_info": {
   "codemirror_mode": {
    "name": "ipython",
    "version": 2
   },
   "file_extension": ".py",
   "mimetype": "text/x-python",
   "name": "python",
   "nbconvert_exporter": "python",
   "pygments_lexer": "ipython2",
   "version": "2.7.10"
  }
 },
 "nbformat": 4,
 "nbformat_minor": 2
}
