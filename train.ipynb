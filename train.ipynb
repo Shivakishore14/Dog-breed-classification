{
 "cells": [
  {
   "cell_type": "code",
   "execution_count": 12,
   "metadata": {},
   "outputs": [],
   "source": [
    "import dataset\n",
    "import numpy as np\n",
    "import tensorflow as tf\n",
    "import os"
   ]
  },
  {
   "cell_type": "code",
   "execution_count": 7,
   "metadata": {},
   "outputs": [],
   "source": [
    "def cnn_model_fn(features, labels, mode):\n",
    "    \"\"\"Model function for CNN.\"\"\"\n",
    "    # Input Layer\n",
    "    input_layer = tf.reshape(features[\"x\"], [-1, 128, 128, 1])\n",
    "\n",
    "    # Convolutional Layer #1\n",
    "    conv1 = tf.layers.conv2d(\n",
    "      inputs=input_layer,\n",
    "      filters=32,\n",
    "      kernel_size=[5, 5],\n",
    "      padding=\"same\",\n",
    "      activation=tf.nn.relu)\n",
    "\n",
    "    # Pooling Layer #1\n",
    "    pool1 = tf.layers.max_pooling2d(inputs=conv1, pool_size=[2, 2], strides=2)\n",
    "\n",
    "    # Convolutional Layer #2 and Pooling Layer #2\n",
    "    conv2 = tf.layers.conv2d(\n",
    "      inputs=pool1,\n",
    "      filters=64,\n",
    "      kernel_size=[5, 5],\n",
    "      padding=\"same\",\n",
    "      activation=tf.nn.relu)\n",
    "    pool2 = tf.layers.max_pooling2d(inputs=conv2, pool_size=[2, 2], strides=2)\n",
    "\n",
    "    # Dense Layer\n",
    "    pool2_flat = tf.reshape(pool2, [-1, 32 * 32 * 64])\n",
    "    dense = tf.layers.dense(inputs=pool2_flat, units=1024, activation=tf.nn.relu)\n",
    "    dropout = tf.layers.dropout(\n",
    "      inputs=dense, rate=0.4, training=mode == tf.estimator.ModeKeys.TRAIN)\n",
    "\n",
    "    # Logits Layer\n",
    "    logits = tf.layers.dense(inputs=dropout, units=dataset.n_classes)\n",
    "\n",
    "    predictions = {\n",
    "      # Generate predictions (for PREDICT and EVAL mode)\n",
    "      \"classes\": tf.argmax(input=logits, axis=1),\n",
    "      # Add `softmax_tensor` to the graph. It is used for PREDICT and by the\n",
    "      # `logging_hook`.\n",
    "      \"probabilities\": tf.nn.softmax(logits, name=\"softmax_tensor\")\n",
    "    }\n",
    "\n",
    "    # Calculate Loss (for both TRAIN and EVAL modes)\n",
    "    loss = tf.losses.sparse_softmax_cross_entropy(labels=labels, logits=logits)\n",
    "\n",
    "    # Configure the Training Op (for TRAIN mode)\n",
    "    optimizer = tf.train.GradientDescentOptimizer(learning_rate=0.001)\n",
    "    train_op = optimizer.minimize(\n",
    "        loss=loss,\n",
    "        global_step=tf.train.get_global_step())\n",
    "    acc = tf.metrics.accuracy(\n",
    "          labels=labels, predictions=predictions['classes'])\n",
    "    return train_op, loss, logits, acc"
   ]
  },
  {
   "cell_type": "code",
   "execution_count": 4,
   "metadata": {},
   "outputs": [],
   "source": [
    "x = tf.placeholder(tf.float32, shape=[None, 128*128])\n",
    "y = tf.placeholder(tf.int32, shape=[None])"
   ]
  },
  {
   "cell_type": "code",
   "execution_count": 8,
   "metadata": {},
   "outputs": [],
   "source": [
    "train_op, loss, logits, accuracy = cnn_model_fn({'x': x}, y, None)"
   ]
  },
  {
   "cell_type": "code",
   "execution_count": 13,
   "metadata": {},
   "outputs": [
    {
     "name": "stdout",
     "output_type": "stream",
     "text": [
      "Writing to /Users/shiva/github/Dog-breed-classification/tmp/logs\n",
      "\n"
     ]
    }
   ],
   "source": [
    "out_dir = os.path.abspath(\"tmp/logs/\")\n",
    "checkpoint_prefix = 'tmp/checkpoints/'\n",
    "print(\"Writing to {}\\n\".format(out_dir))\n",
    "loss_summary = tf.summary.scalar(\"loss\", loss)\n",
    "summary_op = tf.summary.merge([loss_summary])\n",
    "\n",
    "saver = tf.train.Saver(tf.global_variables(), max_to_keep=2)"
   ]
  },
  {
   "cell_type": "code",
   "execution_count": 21,
   "metadata": {},
   "outputs": [
    {
     "name": "stdout",
     "output_type": "stream",
     "text": [
      "INFO:tensorflow:Restoring parameters from tmp/checkpoints/-65\n",
      "step : 3, epoch : 8 , loss : 1.79202651978 \n",
      "step : 5, epoch : 8 , loss : 1.78255987167 \n",
      "step : 7, epoch : 8 , loss : 1.7926056385 \n",
      "step : 9, epoch : 9 , loss : 1.79541635513 \n",
      "step : 11, epoch : 9 , loss : 1.80509734154 \n",
      "step : 13, epoch : 9 , loss : 1.7866846323 \n",
      "step : 15, epoch : 9 , loss : 1.77770197392 \n",
      "step : 17, epoch : 9 , loss : 1.78314518929 \n",
      "step : 19, epoch : 10 , loss : 1.78594923019 \n",
      "step : 21, epoch : 10 , loss : 1.79860389233 \n",
      "step : 23, epoch : 10 , loss : 1.78240132332 \n",
      "step : 25, epoch : 10 , loss : 1.77283942699 \n",
      "step : 27, epoch : 10 , loss : 1.77564239502 \n",
      "step : 29, epoch : 11 , loss : 1.77800273895 \n"
     ]
    }
   ],
   "source": [
    "with tf.Session() as sess:\n",
    "    summary_writer = tf.summary.FileWriter(out_dir, sess.graph)\n",
    "    try:\n",
    "        checkpoint_file = tf.train.latest_checkpoint(checkpoint_prefix)\n",
    "        saver = tf.train.import_meta_graph(\"{}.meta\".format(checkpoint_file))\n",
    "        saver.restore(sess, checkpoint_file)\n",
    "    except:\n",
    "        print \"cannot load checkpoints\"\n",
    "\n",
    "    sess.run(tf.global_variables_initializer())\n",
    "    i = 0\n",
    "    while dataset.n_epochs <= 10:\n",
    "        i += 1\n",
    "        batch_x, batch_y = dataset.get_batch(size=64)\n",
    "        \n",
    "        _, loss_, logits_, global_step, summary_ = sess.run([train_op, loss, logits, tf.train.get_global_step(), summary_op],\n",
    "                                                  feed_dict={x: batch_x, y: batch_y})\n",
    "        summary_writer.add_summary(summary_, global_step)\n",
    "#         global_step = tf.train.get_global_step()\n",
    "        if i % 2 == 0:\n",
    "            print \"step : {}, epoch : {} , loss : {} \".format(global_step, dataset.n_epochs, loss_)\n",
    "            saver.save(sess, checkpoint_prefix, global_step=global_step)"
   ]
  },
  {
   "cell_type": "code",
   "execution_count": 16,
   "metadata": {},
   "outputs": [],
   "source": [
    "dataset.n_epochs = 0"
   ]
  },
  {
   "cell_type": "code",
   "execution_count": 19,
   "metadata": {},
   "outputs": [],
   "source": [
    "!mkdir tmp/checkpoints"
   ]
  }
 ],
 "metadata": {
  "kernelspec": {
   "display_name": "Python 2",
   "language": "python",
   "name": "python2"
  },
  "language_info": {
   "codemirror_mode": {
    "name": "ipython",
    "version": 2
   },
   "file_extension": ".py",
   "mimetype": "text/x-python",
   "name": "python",
   "nbconvert_exporter": "python",
   "pygments_lexer": "ipython2",
   "version": "2.7.10"
  }
 },
 "nbformat": 4,
 "nbformat_minor": 2
}
